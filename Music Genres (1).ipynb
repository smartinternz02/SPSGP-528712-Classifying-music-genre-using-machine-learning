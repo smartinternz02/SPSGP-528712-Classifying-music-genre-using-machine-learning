{
 "cells": [
  {
   "cell_type": "code",
   "execution_count": 1,
   "metadata": {},
   "outputs": [],
   "source": [
    "# pip install python_speech_features"
   ]
  },
  {
   "cell_type": "code",
   "execution_count": 2,
   "metadata": {
    "id": "yfQldLJCi-FE"
   },
   "outputs": [],
   "source": [
    "import numpy as np\n",
    "import scipy.io.wavfile as wav\n",
    "from python_speech_features import mfcc\n",
    "\n",
    "import os\n",
    "import pickle \n",
    "import operator"
   ]
  },
  {
   "cell_type": "code",
   "execution_count": 3,
   "metadata": {
    "id": "dPtdSnvFi-FZ"
   },
   "outputs": [],
   "source": [
    "def distance(instance1 , instance2 , k ):\n",
    "    distance =0 \n",
    "    mm1 = instance1[0] \n",
    "    cm1 = instance1[1]\n",
    "    mm2 = instance2[0]\n",
    "    cm2 = instance2[1]\n",
    "    distance = np.trace(np.dot(np.linalg.inv(cm2), cm1)) \n",
    "    distance+=(np.dot(np.dot((mm2-mm1).transpose() , np.linalg.inv(cm2)) , mm2-mm1 )) \n",
    "    distance+= np.log(np.linalg.det(cm2)) - np.log(np.linalg.det(cm1))\n",
    "    distance-= k\n",
    "    return distance"
   ]
  },
  {
   "cell_type": "code",
   "execution_count": 4,
   "metadata": {
    "id": "SAdI5yLmi-Fd"
   },
   "outputs": [],
   "source": [
    " def getNeighbors(trainingSet , instance , k):\n",
    "    distances =[]\n",
    "    for x in range (len(trainingSet)):\n",
    "        dist = distance(trainingSet[x], instance, k )+ distance(instance, trainingSet[x], k)\n",
    "        distances.append((trainingSet[x][2], dist))\n",
    "    distances.sort(key=operator.itemgetter(1))\n",
    "    neighbors = []\n",
    "    for x in range(k):\n",
    "        neighbors.append(distances[x][0])\n",
    "    return neighbors   \n"
   ]
  },
  {
   "cell_type": "code",
   "execution_count": 5,
   "metadata": {
    "id": "cC3rzhQoi-Fj"
   },
   "outputs": [],
   "source": [
    "def nearestClass(neighbors):\n",
    "    classVote = {}\n",
    "\n",
    "    for x in range(len(neighbors)):\n",
    "        response = neighbors[x]\n",
    "        if response in classVote:\n",
    "            classVote[response]+=1 \n",
    "        else:\n",
    "            classVote[response]=1\n",
    "\n",
    "    sorter = sorted(classVote.items(), key = operator.itemgetter(1), reverse=True)\n",
    "    return sorter[0][0]"
   ]
  },
  {
   "cell_type": "code",
   "execution_count": 6,
   "metadata": {
    "id": "KfHiG5gUi-Fm"
   },
   "outputs": [],
   "source": [
    "directory =\"D:/Jupyter notebook files/Flask/Flask/Music Genres/\"\n",
    "f = open(\"my.dat\" ,'wb')\n",
    "i = 0"
   ]
  },
  {
   "cell_type": "code",
   "execution_count": 7,
   "metadata": {
    "id": "5eRAsmaMi-Fq"
   },
   "outputs": [],
   "source": [
    "for folder in os.listdir(directory):\n",
    "    #as we have 10 classes, we're starting the loop from 1 to 11\n",
    "    #so that we run the loop for total of 10 times, with each folder change (genre change),  i (label) changes. \n",
    "    i += 1\n",
    "    if i==11 :\n",
    "        break \n",
    "    #print(\"fo\",folder)\n",
    "    for file in os.listdir(directory+folder):  \n",
    "        \n",
    "        #To read an Wav audio File in Python\n",
    "        (rate,sig) = wav.read(directory+folder+\"/\"+file)\n",
    "        if directory+folder == \"D:/Jupyter notebook files/Flask/Flask/Music Genres/\":\n",
    "            print(directory+folder+\"/\"+file)\n",
    "        #MFCC is the feature we will use for our analysis,\n",
    "        #because it provides data about the overall shape of the audio frequencies.\n",
    "        mfcc_feat = mfcc(sig,rate ,winlen=0.020, appendEnergy = False)\n",
    "        covariance = np.cov(np.matrix.transpose(mfcc_feat))\n",
    "        mean_matrix = mfcc_feat.mean(0)\n",
    "        #making a feature typle that contains the mean matrix from mfcc as well as covariance,\n",
    "        #and last variable in the feature tuple is the label (where numbers correspond to particular genre)\n",
    "        feature = (mean_matrix , covariance , i)\n",
    "        \n",
    "        #This the the created dataset, which takes the input from specified path\n",
    "        #it then stores the feature as a .dat file which can be used later without having to train all the files over it.\n",
    "        pickle.dump(feature , f)\n",
    "f.close()"
   ]
  },
  {
   "cell_type": "code",
   "execution_count": 8,
   "metadata": {
    "id": "EmbkzkPoi-Fx"
   },
   "outputs": [],
   "source": [
    "dataset = []\n",
    "def loadDataset(project):\n",
    "    with open(\"D:\\Jupyter notebook files\\Flask\\Flask\\my.dat\" , 'rb') as f:\n",
    "        while True:\n",
    "            try:\n",
    "                dataset.append(pickle.load(f))\n",
    "            except EOFError:\n",
    "                f.close()\n",
    "                break  \n",
    "\n",
    "loadDataset(\"D:/Jupyter notebook files/Flask/Flask/Music Genres/\")"
   ]
  },
  {
   "cell_type": "code",
   "execution_count": 9,
   "metadata": {
    "id": "NakvjukFi-F9"
   },
   "outputs": [],
   "source": [
    "from sklearn.model_selection import train_test_split\n",
    "x_train ,x_test = train_test_split(dataset,test_size=0.15)\n"
   ]
  },
  {
   "cell_type": "code",
   "execution_count": 10,
   "metadata": {
    "id": "KtLf0AE0i-GG"
   },
   "outputs": [],
   "source": [
    "leng = len(x_test)\n",
    "predictions = []\n",
    "for x in range (leng):\n",
    "    predictions.append(nearestClass(getNeighbors(x_train ,x_test[x] , 8))) "
   ]
  },
  {
   "cell_type": "code",
   "execution_count": 11,
   "metadata": {
    "id": "bDQWVFthi-GL"
   },
   "outputs": [],
   "source": [
    "def getAccuracy(testSet, predictions):\n",
    "    #this is a variable to count total number of correct predictions.\n",
    "    correct = 0 \n",
    "    for x in range (len(testSet)):\n",
    "        if testSet[x][-1]==predictions[x]:\n",
    "            correct+=1\n",
    "    return 1.0*correct/len(testSet)\n"
   ]
  },
  {
   "cell_type": "code",
   "execution_count": 12,
   "metadata": {
    "id": "LpBy6HoPi-GO",
    "outputId": "dbe6a5fe-b654-4bb3-a731-53d3acfb0294"
   },
   "outputs": [
    {
     "name": "stdout",
     "output_type": "stream",
     "text": [
      "0.7133333333333334\n"
     ]
    }
   ],
   "source": [
    "accuracy1 = getAccuracy(x_test , predictions)\n",
    "print(accuracy1)"
   ]
  },
  {
   "cell_type": "code",
   "execution_count": null,
   "metadata": {
    "id": "sgXFoUZti-GU"
   },
   "outputs": [],
   "source": []
  }
 ],
 "metadata": {
  "colab": {
   "name": "Music Genres (1).ipynb",
   "provenance": []
  },
  "kernelspec": {
   "display_name": "Python 3 (ipykernel)",
   "language": "python",
   "name": "python3"
  },
  "language_info": {
   "codemirror_mode": {
    "name": "ipython",
    "version": 3
   },
   "file_extension": ".py",
   "mimetype": "text/x-python",
   "name": "python",
   "nbconvert_exporter": "python",
   "pygments_lexer": "ipython3",
   "version": "3.11.4"
  }
 },
 "nbformat": 4,
 "nbformat_minor": 1
}
